{
 "cells": [
  {
   "cell_type": "markdown",
   "id": "f4c0938c-48e9-474e-97a3-23452a494df0",
   "metadata": {},
   "source": [
    "# Modeling an FGFR Kinase Inhibitor with Boltz-1: A Sequence-to-Structure-to-Function Workflow"
   ]
  },
  {
   "cell_type": "markdown",
   "id": "788c19f9-8abd-4a5a-aee1-dbab0a0c8774",
   "metadata": {},
   "source": [
    "Why This Matters\n",
    "\n",
    "Fibroblast‐growth-factor receptors (FGFR1-3) are oncogenic drivers in multiple solid tumours. Infigratinib (BGJ-398) is a first-in-class, ATP-competitive inhibitor approved for FGFR2-fusion cholangiocarcinoma and in trials for other FGFR-addicted cancers. Understanding exactly how the drug fits the kinase pocket—and how that structural event propagates to downstream gene-expression changes—is central to:\n",
    "\n",
    "* Precision oncology – anticipating resistance-conferring mutations and designing next-generation analogues.\n",
    "* Mechanistic biomarker discovery – linking pocket occupancy to “drug-response” transcriptional programs.\n",
    "* In-silico lead optimisation – screening modifications of BGJ-398 against FGFR paralogues before synthesis.\n",
    "\n",
    "Recent diffusion models such as Boltz-1 let us predict protein–ligand complexes ab initio, openly and at workstation scale. Coupled with open-source single-cell analysis tools, we can bridge the molecular and cellular layers without proprietary software."
   ]
  },
  {
   "cell_type": "markdown",
   "id": "607c3ab4-dfe5-4a48-b68f-9b80fec4c252",
   "metadata": {},
   "source": [
    "## Pipeline Overview\n",
    "| Stage                      | Key Tool                          | Output                                         |\n",
    "|----------------------------|-----------------------------------|------------------------------------------------|\n",
    "| A. Target & ligand prep    | UniProt, RDKit                    | FGFR1-3 kinase sequences; 3D mol of Infigratinib |\n",
    "| B. Structure prediction    | Boltz-1                           | PDBs of FGFR–drug complexes + per-model confidence |\n",
    "| C. Expression signature    | Scanpy + GSEApy (bulk/SC datasets)| Differential gene lists & pathway NES          |\n",
    "| D. Interpretation          | PyMOL, volcano/heat-maps          | Structure-function narrative & design hypotheses |\n"
   ]
  },
  {
   "cell_type": "markdown",
   "id": "43508318-7ccb-4399-a126-6ad6d329c9f2",
   "metadata": {},
   "source": [
    "## Practical Walk-through\n",
    "\n",
    "### Prepare Inputs"
   ]
  },
  {
   "cell_type": "code",
   "execution_count": null,
   "id": "ef63fdee-72e0-4855-a237-a35c9ca95daf",
   "metadata": {},
   "outputs": [],
   "source": [
    "\"\"\"Fetch FGFR1 kinase domain (residues 564‑822) and build a 3‑D conformer of\n",
    "Infigratinib – all in pure Python so you can run inside a notebook.\"\"\"\n",
    "\n",
    "import os, requests, textwrap\n",
    "from pathlib import Path\n",
    "from rdkit import Chem\n",
    "from rdkit.Chem import AllChem\n",
    "\n",
    "boltz_input_path = Path(\"boltz_inputs\");\n",
    "boltz_input_path.mkdir(exist_ok=True)\n",
    "\n",
    "\n",
    "# ▸  Fetch canonical SMILES for Infigratinib (PubChem CID 50909836) -----\n",
    "url = \"https://pubchem.ncbi.nlm.nih.gov/rest/pug/compound/cid/50909836/property/IsomericSMILES/JSON\"\n",
    "smiles = requests.get(url, timeout=30).json()['PropertyTable']['Properties'][0]['IsomericSMILES']\n",
    "print(\"SMILES:\", smiles[:60], \"…\")\n",
    "\n",
    "# Build 3‑D ligand\n",
    "mol = Chem.AddHs(Chem.MolFromSmiles(smiles))\n",
    "AllChem.EmbedMolecule(mol, randomSeed=42)\n",
    "AllChem.UFFOptimizeMolecule(mol)\n",
    "Chem.MolToMolFile(mol, boltz_input_path / \"Infigratinib.mol\")\n",
    "print(\"Wrote 3D MOL →\", boltz_input_path / \"Infigratinib.mol\")"
   ]
  },
  {
   "cell_type": "markdown",
   "id": "54cadfb6-4f0c-4055-84d2-a552dc7f763a",
   "metadata": {},
   "source": [
    "#### Generate YAML programmatically\n",
    "\n",
    "The snippet below downloads the full FGFR1 sequence from UniProt, slices the kinase domain (564–822), and writes a Boltz‑1 YAML in boltz_inputs/. It re‑uses the smiles variable created in the previous cell:"
   ]
  },
  {
   "cell_type": "code",
   "execution_count": null,
   "id": "03a1d4b3-a190-4a0c-82c8-14aa94638331",
   "metadata": {},
   "outputs": [],
   "source": [
    "import os, requests, yaml, textwrap\n",
    "from pathlib import Path\n",
    "\n",
    "boltz_input_path = Path(\"boltz_inputs\")\n",
    "boltz_input_path.mkdir(exist_ok=True)\n",
    "\n",
    "# ▸  Download full FGFR1 sequence (UniProt P11362) ----------------------\n",
    "\n",
    "\n",
    "uniprots = {\n",
    "    \"FGFR1\": \"P11362\",\n",
    "    \"FGFR2\": \"P21802\",\n",
    "    \"FGFR3\": \"P22607\",\n",
    "}\n",
    "\n",
    "seq_dict = {}\n",
    "for name, uid in uniprots.items():\n",
    "    url = f\"https://www.uniprot.org/uniprot/{uid}.fasta\"\n",
    "    fasta = requests.get(url, timeout=30).text\n",
    "    full_seq = \"\".join(l.strip() for l in fasta.splitlines() if not l.startswith(\">\"))\n",
    "    kd_seq = full_seq[563:822]  # slice residues 564‑822 (python 0‑based)\n",
    "    seq_dict[name] = kd_seq\n",
    "    print(f\"{name}: kinase domain length = {len(kd_seq)} aa\")\n",
    "\n",
    "inputs_dict ={}\n",
    "\n",
    "for name, kd_seq in seq_dict.items():\n",
    "    yaml_dict = {\n",
    "        \"version\": 1,\n",
    "        \"sequences\": [\n",
    "            {\"protein\": {\"id\": \"A\", \"sequence\": textwrap.fill(kd_seq, 60)}},\n",
    "            {\"ligand\":  {\"id\": \"B\", \"smiles\": smiles}},\n",
    "        ]\n",
    "    }\n",
    "    outfile = os.path.join(\"boltz_inputs\", f\"{name.lower()}_infig.yaml\")\n",
    "    with outfile.open(\"w\") as fh:\n",
    "        yaml.safe_dump(yaml_dict, fh, sort_keys=False)\n",
    "    inputs_dict[name] = outfile\n",
    "    print(\"Wrote\", outfile)"
   ]
  },
  {
   "cell_type": "markdown",
   "id": "e3f89863",
   "metadata": {},
   "source": [
    "### 3.2  Run Boltz‑1\n",
    "The fist step is install Boltz-1. The following command will install the latest version of Boltz-1 from the GitHub repository. There are some dependencies that need to be installed first, including Cmake, compilers (C++, gfortran, etc). You can find the installation instructions in the [Boltz-1 GitHub repository](https://github.com/jwohlwend/boltz)\n"
   ]
  },
  {
   "cell_type": "code",
   "execution_count": null,
   "id": "a3ffcee1",
   "metadata": {},
   "outputs": [],
   "source": [
    "!conda install -y -c conda-forge gfortran_linux-64 compilers git cmake  openblas openblas-devel > /dev/null 2>&1\n",
    "!pip install rdkit\n",
    "!pip install pyyaml\n",
    "# !pip install boltz\n",
    "!git clone https://github.com/jwohlwend/boltz.git\n",
    "!cd boltz; pip install -e ."
   ]
  },
  {
   "cell_type": "code",
   "execution_count": null,
   "id": "a79e1522",
   "metadata": {},
   "outputs": [],
   "source": [
    "import subprocess\n",
    "import os \n",
    "# Ensure boltz_output_path exists\n",
    "os.makedirs(boltz_output_path, exist_ok=True)\n",
    "# Run the command and stream output in real time\n",
    "def run_and_stream(cmd):\n",
    "    process = subprocess.Popen(cmd, stdout=subprocess.PIPE, stderr=subprocess.STDOUT, text=True)\n",
    "    for line in process.stdout:\n",
    "        print(line, end='')\n",
    "    process.wait()\n",
    "    if process.returncode != 0:\n",
    "        print(f\"Process exited with code {process.returncode}\")\n",
    "\n",
    "# Repeat for FGFR2 and FGFR3.Outp\n",
    "#boltz_input_path = os.path.join(\"volume\", \"boltz_input\")\n",
    "for name, yaml_input_file in inputs_dict.items():\n",
    "    cmd = [\n",
    "        \"boltz\", \"predict\",\n",
    "        yaml_input_file,\n",
    "        \"--out_dir\", boltz_output_path,\n",
    "        \"--recycling_steps\", \"10\",\n",
    "        \"--diffusion_samples\", \"8\",\n",
    "        \"--cache\", \"/volume/boltz_cache\",\n",
    "        \"--use_msa_server\"\n",
    "    ]\n",
    "\n",
    "    print(f\"Running command: {' '.join(cmd)}\")\n",
    "    run_and_stream(cmd)\n"
   ]
  },
  {
   "cell_type": "markdown",
   "id": "12430060",
   "metadata": {},
   "source": [
    "#### Inspect Binding Pose\n",
    "\n",
    "Load fgfr1_infig_model_0.pdb in PyMOL:In order to visualize the binding pose of the ligand in the protein structure, we can use PyMOL. PyMOL is a powerful molecular visualization tool that allows us to view and manipulate 3D structures of proteins and ligands. We can load the PDB file generated by Boltz-1 and visualize the binding pose of Infigratinib in the FGFR1 kinase domain.\n",
    "You can launch PyMol on your desired compute-unit. First go to the [flow](https://diphyx.com/dashboard/namespace/flows/verified) then find PyMol and click on the \"Tryout\" button. Then select the desired compute-unit to launch the PyMol. This will launch a new instance of PyMol in your browser. \n",
    "\n",
    "When you open the PyMol check the following:\n",
    "\n",
    "- Acrylamide warhead aligned toward Cys488 (covalent site).\n",
    "- Hinge hydrogen bonds to Ala564 backbone.\n",
    "- Confidence JSON → ligand_iptm > 0.6 ⇒ stable pose.\n"
   ]
  },
  {
   "cell_type": "markdown",
   "id": "dabd7a0a",
   "metadata": {},
   "source": [
    "#### Link Structure to Transcriptional Response\n",
    "\n",
    "Obtain any public RNA-seq dataset where FGFR-addicted cells are treated with BGJ-398 (e.g. GEO GSE65324). Analyse with Scanpy:"
   ]
  },
  {
   "cell_type": "code",
   "execution_count": null,
   "id": "7d43f2c2",
   "metadata": {},
   "outputs": [],
   "source": [
    "import scanpy as sc\n",
    "import gseapy as gp\n",
    "adata = sc.read_h5ad(\"BGJ398_treated_vs_control.h5ad\")\n",
    "sc.tl.rank_genes_groups(adata, 'condition', groups=['treated'], reference='control')\n",
    "deg = sc.get.rank_genes_groups_df(adata, 'treated')\n",
    "rank = deg[['names','logfoldchanges']].sort_values('logfoldchanges', ascending=False)\n",
    "enrich = gp.prerank(rnk=rank, gene_sets='MSigDB_Hallmark_2020')\n",
    "enrich.res2d.head(10)"
   ]
  },
  {
   "cell_type": "markdown",
   "id": "44e64422",
   "metadata": {},
   "source": [
    "Expected results\n",
    "\n",
    "| Observation                          | Structural rationale                            |\n",
    "|--------------------------------------|-------------------------------------------------|\n",
    "| Down-reg of E2F targets, MYC targets | Loss of FGFR/ERK proliferative signalling       |\n",
    "| Up-reg of p53 pathway, apoptosis     | FGFR blockade induces cell-cycle arrest         |\n",
    "| Feedback ↓ in FGFR1/2 mRNA             | Kinase pocket occupancy disrupts receptor recycling |\n",
    "\n",
    "\n",
    "Combine volcano plot of DEGs with PyMOL snapshot → a coherent narrative from pocket blockade to pathway shutdown."
   ]
  }
 ],
 "metadata": {
  "kernelspec": {
   "display_name": "Python 3 (ipykernel)",
   "language": "python",
   "name": "python3"
  },
  "language_info": {
   "codemirror_mode": {
    "name": "ipython",
    "version": 3
   },
   "file_extension": ".py",
   "mimetype": "text/x-python",
   "name": "python",
   "nbconvert_exporter": "python",
   "pygments_lexer": "ipython3",
   "version": "3.13.2"
  }
 },
 "nbformat": 4,
 "nbformat_minor": 5
}
