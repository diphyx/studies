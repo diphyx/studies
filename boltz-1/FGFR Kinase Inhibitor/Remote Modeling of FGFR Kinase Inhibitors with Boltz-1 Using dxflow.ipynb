{
 "cells": [
  {
   "cell_type": "markdown",
   "id": "f4c0938c-48e9-474e-97a3-23452a494df0",
   "metadata": {},
   "source": [
    "# Remote Modeling of FGFR Kinase Inhibitors with Boltz-1 Using dxflow"
   ]
  },
  {
   "cell_type": "markdown",
   "id": "788c19f9-8abd-4a5a-aee1-dbab0a0c8774",
   "metadata": {},
   "source": [
    "### Why This Case Study Matters\n",
    "FGFR kinases (FGFR1-3) are implicated in diverse cancers. Infigratinib (BGJ-398), an ATP-competitive inhibitor, is approved for FGFR2 fusion-driven cholangiocarcinoma and in trials for broader FGFR-addicted cancers. Understanding the structural basis of its activity supports:\n",
    "\n",
    "- **Precision medicine** — anticipating resistance mutations and optimizing analogs.\n",
    "- **Biomarker discovery** — linking structure to downstream gene expression.\n",
    "- **In-silico screening** — evaluating analogs computationally before synthesis.\n",
    "\n",
    "Boltz-1, a generative diffusion model, predicts protein-ligand complex structures. This notebook demonstrates how to run Boltz-1 within the DiPhyx platform, integrate molecular modeling and transcriptomics, and interpret biological outcomes."
   ]
  },
  {
   "cell_type": "markdown",
   "id": "607c3ab4-dfe5-4a48-b68f-9b80fec4c252",
   "metadata": {},
   "source": [
    "## Pipeline Overview\n",
    "| Stage                      | Key Tool                          | Output                                         |\n",
    "|----------------------------|-----------------------------------|------------------------------------------------|\n",
    "| A. Target & ligand prep    | UniProt, RDKit                    | FGFR1-3 kinase sequences; 3D mol of Infigratinib |\n",
    "| B. Structure prediction    | Boltz-1                           | PDBs of FGFR–drug complexes + per-model confidence |\n",
    "| C. Expression signature    | Scanpy + GSEApy (bulk/SC datasets)| Differential gene lists & pathway NES          |\n",
    "| D. Interpretation          | PyMOL, volcano/heat-maps          | Structure-function narrative & design hypotheses |\n",
    "\n",
    "\n",
    "> **Compute Recommendations**: Run this notebook on GPU-enabled units on [DiPhyx](https://www.diphyx.com/). Recommended instances include:\n",
    "> - `g4dn.4xlarge` (16 cores, 64 GB RAM, Tesla T4 GPU)\n",
    "> - `g4dn.2xlarge` (8 cores, 16 GB RAM, Tesla T4 GPU)\n",
    "> - `g6.2xlarge` (8 cores, 32 GB RAM, NVIDIA L4 GPU)"
   ]
  },
  {
   "cell_type": "markdown",
   "id": "43508318-7ccb-4399-a126-6ad6d329c9f2",
   "metadata": {},
   "source": [
    "## Practical Walk-through\n",
    "\n",
    "### Prepare Inputs\n",
    "Fetch FGFR1 kinase domain and generate Infigratinib conformer:"
   ]
  },
  {
   "cell_type": "code",
   "execution_count": 9,
   "id": "ef63fdee-72e0-4855-a237-a35c9ca95daf",
   "metadata": {},
   "outputs": [
    {
     "name": "stdout",
     "output_type": "stream",
     "text": [
      "SMILES: CC(C)(COP(=O)(O)OP(=O)(O)OC[C@@H]1[C@H]([C@H]([C@@H](O1)N2C= …\n",
      "Wrote 3D MOL → boltz_inputs\\Infigratinib.mol\n"
     ]
    }
   ],
   "source": [
    "\"\"\"Fetch FGFR1 kinase domain (residues 564‑822) and build a 3‑D conformer of\n",
    "Infigratinib – all in pure Python so you can run inside a notebook.\"\"\"\n",
    "\n",
    "import os, requests, textwrap\n",
    "from pathlib import Path\n",
    "from rdkit import Chem\n",
    "from rdkit.Chem import AllChem\n",
    "\n",
    "boltz_input_path = Path(\"boltz_inputs\");\n",
    "boltz_input_path.mkdir(exist_ok=True)\n",
    "\n",
    "\n",
    "# ▸  Fetch canonical SMILES for Infigratinib (PubChem CID 50909836) -----\n",
    "url = \"https://pubchem.ncbi.nlm.nih.gov/rest/pug/compound/cid/50909836/property/IsomericSMILES/JSON\"\n",
    "smiles = requests.get(url, timeout=30).json()['PropertyTable']['Properties'][0]['IsomericSMILES']\n",
    "print(\"SMILES:\", smiles[:60], \"…\")\n",
    "\n",
    "# Build 3‑D ligand\n",
    "mol = Chem.AddHs(Chem.MolFromSmiles(smiles))\n",
    "AllChem.EmbedMolecule(mol, randomSeed=42)\n",
    "AllChem.UFFOptimizeMolecule(mol)\n",
    "Chem.MolToMolFile(mol, boltz_input_path / \"Infigratinib.mol\")\n",
    "print(\"Wrote 3D MOL →\", boltz_input_path / \"Infigratinib.mol\")"
   ]
  },
  {
   "cell_type": "markdown",
   "id": "54cadfb6-4f0c-4055-84d2-a552dc7f763a",
   "metadata": {},
   "source": [
    "#### Generate YAML programmatically\n",
    "\n",
    "The snippet below downloads the full FGFR1 sequence from UniProt, slices the kinase domain (564–822), and writes a Boltz‑1 YAML in boltz_inputs/. It re‑uses the smiles variable created in the previous cell:"
   ]
  },
  {
   "cell_type": "code",
   "execution_count": 10,
   "id": "03a1d4b3-a190-4a0c-82c8-14aa94638331",
   "metadata": {},
   "outputs": [
    {
     "name": "stdout",
     "output_type": "stream",
     "text": [
      "FGFR1: kinase domain length = 259 aa\n",
      "FGFR2: kinase domain length = 258 aa\n",
      "FGFR3: kinase domain length = 243 aa\n",
      "Wrote boltz_inputs\\fgfr1_infig.yaml\n",
      "Wrote boltz_inputs\\fgfr2_infig.yaml\n",
      "Wrote boltz_inputs\\fgfr3_infig.yaml\n"
     ]
    }
   ],
   "source": [
    "import os, requests, yaml, textwrap\n",
    "from pathlib import Path\n",
    "\n",
    "boltz_input_path = Path(\"boltz_inputs\")\n",
    "boltz_input_path.mkdir(exist_ok=True)\n",
    "\n",
    "# ▸  Download full FGFR1 sequence (UniProt P11362) ----------------------\n",
    "\n",
    "\n",
    "uniprots = {\n",
    "    \"FGFR1\": \"P11362\",\n",
    "    \"FGFR2\": \"P21802\",\n",
    "    \"FGFR3\": \"P22607\",\n",
    "}\n",
    "\n",
    "seq_dict = {}\n",
    "for name, uid in uniprots.items():\n",
    "    url = f\"https://www.uniprot.org/uniprot/{uid}.fasta\"\n",
    "    fasta = requests.get(url, timeout=30).text\n",
    "    full_seq = \"\".join(l.strip() for l in fasta.splitlines() if not l.startswith(\">\"))\n",
    "    kd_seq = full_seq[563:822]  # slice residues 564‑822 (python 0‑based)\n",
    "    seq_dict[name] = kd_seq\n",
    "    print(f\"{name}: kinase domain length = {len(kd_seq)} aa\")\n",
    "\n",
    "inputs_dict ={}\n",
    "\n",
    "for name, kd_seq in seq_dict.items():\n",
    "    yaml_dict = {\n",
    "        \"version\": 1,\n",
    "        \"sequences\": [\n",
    "            {\"protein\": {\"id\": \"A\", \"sequence\": textwrap.fill(kd_seq, 60)}},\n",
    "            {\"ligand\":  {\"id\": \"B\", \"smiles\": smiles}},\n",
    "        ]\n",
    "    }\n",
    "    outfile = os.path.join(\"boltz_inputs\", f\"{name.lower()}_infig.yaml\")\n",
    "    with open(outfile, \"w\") as fh:\n",
    "        yaml.safe_dump(yaml_dict, fh, sort_keys=False)\n",
    "    inputs_dict[name] = outfile\n",
    "    print(\"Wrote\", outfile)"
   ]
  },
  {
   "cell_type": "markdown",
   "id": "e3f89863",
   "metadata": {},
   "source": [
    "### 3.2  Run Boltz‑1 using dxflow\n",
    "We want to use dxflow library to run Boltz-1 on DiPhyx. The first step is to install dxrflow and make a session using your DiPhyx `email` and `password`. If you don't have a DiPhyx account, you can create one [here](https://www.diphyx.com/).\n"
   ]
  },
  {
   "cell_type": "code",
   "execution_count": null,
   "id": "dfa03d42",
   "metadata": {},
   "outputs": [
    {
     "name": "stdout",
     "output_type": "stream",
     "text": [
      "Requirement already satisfied: dxflow in c:\\users\\bgosh\\miniconda3\\envs\\boltz1\\lib\\site-packages (0.1.5)\n",
      "Collecting dxflow\n",
      "  Downloading dxflow-0.1.6-py3-none-any.whl.metadata (2.8 kB)\n",
      "Requirement already satisfied: requests>=2.26.0 in c:\\users\\bgosh\\miniconda3\\envs\\boltz1\\lib\\site-packages (from dxflow) (2.32.3)\n",
      "Requirement already satisfied: pyyaml>=5.4.1 in c:\\users\\bgosh\\miniconda3\\envs\\boltz1\\lib\\site-packages (from dxflow) (6.0.2)\n",
      "Requirement already satisfied: colorama>=0.4.4 in c:\\users\\bgosh\\miniconda3\\envs\\boltz1\\lib\\site-packages (from dxflow) (0.4.6)\n",
      "Requirement already satisfied: charset-normalizer<4,>=2 in c:\\users\\bgosh\\miniconda3\\envs\\boltz1\\lib\\site-packages (from requests>=2.26.0->dxflow) (3.4.2)\n",
      "Requirement already satisfied: idna<4,>=2.5 in c:\\users\\bgosh\\miniconda3\\envs\\boltz1\\lib\\site-packages (from requests>=2.26.0->dxflow) (3.10)\n",
      "Requirement already satisfied: urllib3<3,>=1.21.1 in c:\\users\\bgosh\\miniconda3\\envs\\boltz1\\lib\\site-packages (from requests>=2.26.0->dxflow) (2.4.0)\n",
      "Requirement already satisfied: certifi>=2017.4.17 in c:\\users\\bgosh\\miniconda3\\envs\\boltz1\\lib\\site-packages (from requests>=2.26.0->dxflow) (2025.4.26)\n",
      "Downloading dxflow-0.1.6-py3-none-any.whl (27 kB)\n",
      "Installing collected packages: dxflow\n",
      "  Attempting uninstall: dxflow\n",
      "    Found existing installation: dxflow 0.1.5\n",
      "    Uninstalling dxflow-0.1.5:\n",
      "      Successfully uninstalled dxflow-0.1.5\n",
      "Successfully installed dxflow-0.1.6\n"
     ]
    }
   ],
   "source": [
    "# Lets make sure that dxflow is installed \n",
    "!pip install dxflow -U\n",
    "\n",
    "from dxflow.session import Session\n",
    "# Create a dxflow session with your credentials\n",
    "session = Session(email='YOUR@EMAIL', password='YOUR_PASSWORD')"
   ]
  },
  {
   "cell_type": "markdown",
   "id": "27786843",
   "metadata": {},
   "source": [
    "Now that you are connected to your DiPhyx account, let's see if you have any running compute-units. If you don't have any compute-units yet, you can create one by going to the [DiPhyx dashboard](https://www.diphyx.com/dashboard) and clicking on \"Create Compute Unit\".\n"
   ]
  },
  {
   "cell_type": "code",
   "execution_count": null,
   "id": "501c637f",
   "metadata": {},
   "outputs": [
    {
     "name": "stdout",
     "output_type": "stream",
     "text": [
      "\n",
      "Name        | Status     | IP            | Cluster Type         | CPU | Memory(GB) | Disk                        \n",
      "------------+------------+---------------+----------------------+-----+------------+-----------------------------\n",
      "Boltz_Demo  | PREPARING  | 54.211.250.47 | AWS:g6.2xlarge       | 8   | 32         | {boot: 512, volume: 256}    \n",
      "TEST        | TERMINATED | 54.235.60.203 | AWS:T2 Medium        | 2   | 4          | {boot: 16, volume: 48}      \n"
     ]
    }
   ],
   "source": [
    "compute_unit_manager = session .get_compute_manager()\n",
    "compute_unit_manager.list()"
   ]
  },
  {
   "cell_type": "markdown",
   "id": "0221c3fb",
   "metadata": {},
   "source": [
    "> **Note:** If there is no compute-unit, you can either create it via the [DiPhyx dashboard](https://diphyx.com/dashboard/user/compute/units)  \n",
    "> or create it using the `dxflow` SDK."
   ]
  },
  {
   "cell_type": "markdown",
   "id": "548f9599",
   "metadata": {},
   "source": [
    "Now lets select the `Boltz_Demo` compute-unit with the `ip=<ip_address>`, which is a GPU-enabled unit that we will use to run Boltz-1. "
   ]
  },
  {
   "cell_type": "markdown",
   "id": "2ee7bedb",
   "metadata": {},
   "source": [
    "> **Note:** If you are running this notebook on the same machine, you don't need to specify the `ip` address, as the compute-unit is already connected to your notebook (just use `compute_unit_manager.get_unit()`). However, it is a good practice to specify the `ip` address to ensure that the compute-unit is connected to the correct notebook.\n"
   ]
  },
  {
   "cell_type": "code",
   "execution_count": null,
   "id": "243119a6",
   "metadata": {},
   "outputs": [
    {
     "name": "stdout",
     "output_type": "stream",
     "text": [
      "No data to display\n"
     ]
    }
   ],
   "source": [
    "compute_unit = compute_unit_manager.get_unit(name='Boltz_Demo') # or ip_address='<your_compute_unit_ip_address>'\n",
    "compute_unit.projects.list() # This will show you the list of the project currently available on the compute unit"
   ]
  },
  {
   "cell_type": "markdown",
   "id": "cdb6559c",
   "metadata": {},
   "source": [
    "Now lets get the\"Boltz-1\" flow from the dxflow registery: "
   ]
  },
  {
   "cell_type": "code",
   "execution_count": 5,
   "id": "ada65f7a",
   "metadata": {},
   "outputs": [
    {
     "data": {
      "text/plain": [
       "{'INPUT': {'label': 'Input file or directory',\n",
       "  'hint': \"file.yaml/fasta or directory path. Don't remove /volume/\",\n",
       "  'default': '/volume/boltz_inputs/file.yaml',\n",
       "  'condition': {'key': 'DOCKER_COMPOSE_PROFILE_A', 'value': 'default'},\n",
       "  'required': True},\n",
       " 'OUTPUT': {'label': 'Output directory',\n",
       "  'hint': \"Output directory will be at /volume/output. Don't remove /volume/\",\n",
       "  'default': '/volume/boltz_outout/',\n",
       "  'condition': {'key': 'DOCKER_COMPOSE_PROFILE_A', 'value': 'default'},\n",
       "  'required': True},\n",
       " 'RECYCLE_STEPS': {'label': 'Recycle Steps',\n",
       "  'hint': 'number of recycling iterations',\n",
       "  'default': '10',\n",
       "  'condition': {'key': 'DOCKER_COMPOSE_PROFILE_A', 'value': 'default'},\n",
       "  'required': False},\n",
       " 'DIFFUSION_SAMPLES': {'label': 'Diffusion Samples',\n",
       "  'hint': 'The number of poses for the diffusion model',\n",
       "  'default': '5',\n",
       "  'condition': {'key': 'DOCKER_COMPOSE_PROFILE_A', 'value': 'default'},\n",
       "  'required': False},\n",
       " 'FLAT32_PERCISION': {'label': 'Float Percision',\n",
       "  'hint': 'Floating-point accuracy level',\n",
       "  'options': ['high', 'medium'],\n",
       "  'default': 'medium',\n",
       "  'required': False},\n",
       " 'CACHE_DIRECTORY': {'label': 'Cache directory',\n",
       "  'hint': \"Cache directory. Don't remove /volume/\",\n",
       "  'default': '/volume/boltz_cache/',\n",
       "  'condition': {'key': 'DOCKER_COMPOSE_PROFILE_A', 'value': 'default'},\n",
       "  'required': False},\n",
       " 'OTHER_FLAGS': {'label': 'Additional Flags',\n",
       "  'hint': 'Enter flags as used in the terminal',\n",
       "  'default': '--use_msa_server',\n",
       "  'condition': {'key': 'DOCKER_COMPOSE_PROFILE_A', 'value': 'default'},\n",
       "  'required': False},\n",
       " 'RUN_SCRIPT': {'label': 'Script path',\n",
       "  'hint': \"This script will be executed only if 'Script Mode' is selected.\",\n",
       "  'default': '/volume/run_script.sh',\n",
       "  'condition': {'key': 'DOCKER_COMPOSE_PROFILE_A', 'value': 'script'},\n",
       "  'required': False},\n",
       " 'profiles': {'DOCKER_COMPOSE_PROFILE_A': {'label': 'Execution Method',\n",
       "   'hint': 'Choose how to run your model — using parameters or a custom script',\n",
       "   'options': [{'label': 'Parameter Mode', 'value': 'default'},\n",
       "    {'label': 'Script Mode', 'value': 'script'}],\n",
       "   'default': 'default',\n",
       "   'required': False}}}"
      ]
     },
     "execution_count": 5,
     "metadata": {},
     "output_type": "execute_result"
    }
   ],
   "source": [
    "flow_manager = session.get_flow_registery_manager()\n",
    "# flow_manager.list() # This will show you the list of the flows currently available on the flow manager\n",
    "boltz1_flow = flow_manager.get_by_name('Boltz-1') # This will get the flow with the name 'boltz_flow'\"\"\n",
    "boltz1_flow.get_variables() # This will show you the variables of the flow, their description, type and default value"
   ]
  },
  {
   "cell_type": "markdown",
   "id": "1a04014f",
   "metadata": {},
   "source": [
    "### Moving the data to the compute-unit\n",
    "If you are running this notebook on the same compute-unit as Boltz-1, you can skip this step. If you are running it on your local machine, or a differnt compute-unit, you need to move the data to the compute-unit. The code below moves the yamls files `boltz_inputs` directory to the compute-unit."
   ]
  },
  {
   "cell_type": "code",
   "execution_count": null,
   "id": "4960c2e0",
   "metadata": {},
   "outputs": [
    {
     "name": "stdout",
     "output_type": "stream",
     "text": [
      "Uploaded boltz_inputs\\fgfr1_infig.yaml to boltz_inputs\n",
      "Uploaded boltz_inputs\\fgfr2_infig.yaml to boltz_inputs\n",
      "Uploaded boltz_inputs\\fgfr3_infig.yaml to boltz_inputs\n"
     ]
    }
   ],
   "source": [
    "compute_unit.get_storage() # This will initilize the storage manager for the compute unit\n",
    "   # Destination path in the compute unit storage\n",
    "for name, input_file in inputs_dict.items():\n",
    "    # Upload each input file to the compute unit storage\n",
    "    # Note: Make sure the destination path is correct and accessible in your compute unit environment.\n",
    "    # The dst path will be under /volume/ path and you should not add it in the dst. \n",
    "   compute_unit.storage.upload(src=input_file, dst=str(boltz_input_path))\n",
    "   print(f\"Uploaded {input_file} to {boltz_input_path}\")\n",
    "\n"
   ]
  },
  {
   "cell_type": "markdown",
   "id": "ae727645",
   "metadata": {},
   "source": [
    "The next step is to create the project. If this is first time creating boltz-1 project on this compute-unit, it will take couple of minutes to download the container image on this machine."
   ]
  },
  {
   "cell_type": "code",
   "execution_count": 13,
   "id": "a79e1522",
   "metadata": {},
   "outputs": [],
   "source": [
    "boltz_job_input_path = f\"/volume/{boltz_input_path.name}\"  # Path to the input YAML files in the compute unit storage\n",
    "boltz_job_output_path = \"/volume/boltz_output\"\n",
    "\n",
    "variables = {\n",
    "    \"INPUT\": boltz_job_input_path,  # Path to the input YAML files in the compute unit storage\n",
    "    \"OUTPUT\": boltz_job_output_path,   \n",
    "    \"RECYCLE_STEPS\": 10,    \n",
    "    \"DIFFUSION_SAMPLES\": 8,\n",
    "    \"OTHER_FLAGS\":  \"--use_msa_server\"\n",
    "}\n",
    "boltz_project  = compute_unit.projects.create(flow_name='Boltz-1', variables=variables)\n",
    "\n",
    "    "
   ]
  },
  {
   "cell_type": "markdown",
   "id": "62d5bb57",
   "metadata": {},
   "source": [
    "Now, lets run the projects "
   ]
  },
  {
   "cell_type": "code",
   "execution_count": 14,
   "id": "69df8636",
   "metadata": {},
   "outputs": [
    {
     "name": "stdout",
     "output_type": "stream",
     "text": [
      "Project is signaled to START successfully\n",
      "Started Boltz-1 project with variables: {'INPUT': '/volume/boltz_inputs', 'OUTPUT': '/volume/boltz_output', 'RECYCLE_STEPS': 10, 'DIFFUSION_SAMPLES': 8, 'OTHER_FLAGS': '--use_msa_server'}\n"
     ]
    }
   ],
   "source": [
    "boltz_project.start()\n",
    "print(\"Started Boltz-1 project with variables:\", variables)\n"
   ]
  },
  {
   "cell_type": "markdown",
   "id": "e4cf6387",
   "metadata": {},
   "source": [
    "To monitor the project's progress, you can view the logs in real-time or access the log history using the following commands:"
   ]
  },
  {
   "cell_type": "code",
   "execution_count": 15,
   "id": "5d7c43b4",
   "metadata": {},
   "outputs": [
    {
     "name": "stdout",
     "output_type": "stream",
     "text": [
      "\n",
      "========================================\n",
      "Container: 4f3a9b71364d\n",
      "========================================\n",
      "Date                 Message\n",
      "2025-05-28 21:58:20  Downloading the CCD dictionary to /volume/boltz_cache/ccd.pkl. You may change the cache directory with the --cache flag.\n",
      "2025-05-28 21:58:21  Downloading the model weights to /volume/boltz_cache/boltz1_conf.ckpt. You may change the cache directory with the --cache flag.\n",
      "2025-05-28 21:58:30  Processing input data.\n",
      "2025-05-28 21:58:30  Checking input data.\n",
      "2025-05-28 21:58:30  Running predictions for 3 structures\n",
      "2025-05-28 21:58:35  Generating MSA for /volume/boltz_inputs/fgfr1_infig.yaml with 1 protein entities.\n",
      "2025-05-28 21:58:35  \n",
      "2025-05-28 21:58:35    0%|          | 0/3 [00:00<?, ?it/s]\n",
      "2025-05-28 21:58:35  \n",
      "2025-05-28 21:58:35    0%|          | 0/150 [elapsed: 00:00 remaining: ?]\n",
      "2025-05-28 21:58:35  \n",
      "2025-05-28 21:58:35  COMPLETE:   0%|          | 0/150 [elapsed: 00:00 remaining: ?]\n",
      "2025-05-28 21:58:35  \n",
      "2025-05-28 21:58:35  SUBMIT:   0%|          | 0/150 [elapsed: 00:00 remaining: ?]\n",
      "2025-05-28 21:58:36  \n",
      "2025-05-28 21:58:36  COMPLETE: 100%|██████████| 150/150 [elapsed: 00:00 remaining: 00:00]\n",
      "2025-05-28 21:58:36  COMPLETE: 100%|██████████| 150/150 [elapsed: 00:01 remaining: 00:00]\n",
      "2025-05-28 21:58:38  Generating MSA for /volume/boltz_inputs/fgfr3_infig.yaml with 1 protein entities.\n",
      "2025-05-28 21:58:38  \n",
      "2025-05-28 21:58:38   33%|███▎      | 1/3 [00:03<00:06,  3.07s/it]\n",
      "2025-05-28 21:58:38  \n",
      "2025-05-28 21:58:38    0%|          | 0/150 [elapsed: 00:00 remaining: ?]\n",
      "2025-05-28 21:58:38  \n",
      "2025-05-28 21:58:38  SUBMIT:   0%|          | 0/150 [elapsed: 00:00 remaining: ?]\n",
      "2025-05-28 21:58:38  \n",
      "2025-05-28 21:58:38  PENDING:   0%|          | 0/150 [elapsed: 00:00 remaining: ?]Sleeping for 6s. Reason: PENDING\n",
      "2025-05-28 21:58:44  \n",
      "2025-05-28 21:58:44  RUNNING:   0%|          | 0/150 [elapsed: 00:06 remaining: ?]\n",
      "2025-05-28 21:58:44  \n",
      "2025-05-28 21:58:44  RUNNING:   4%|▍         | 6/150 [elapsed: 00:06 remaining: 02:40]Sleeping for 8s. Reason: RUNNING\n",
      "2025-05-28 21:58:53  \n",
      "2025-05-28 21:58:53  RUNNING:   4%|▍         | 6/150 [elapsed: 00:15 remaining: 02:40]\n",
      "2025-05-28 21:58:53  \n",
      "2025-05-28 21:58:53  RUNNING:   9%|▉         | 14/150 [elapsed: 00:15 remaining: 02:25]Sleeping for 6s. Reason: RUNNING\n",
      "2025-05-28 21:58:59  \n",
      "2025-05-28 21:58:59  RUNNING:   9%|▉         | 14/150 [elapsed: 00:21 remaining: 02:25]\n",
      "2025-05-28 21:58:59  \n",
      "2025-05-28 21:58:59  RUNNING:  13%|█▎        | 20/150 [elapsed: 00:21 remaining: 02:18]Sleeping for 8s. Reason: RUNNING\n",
      "2025-05-28 21:59:07  \n",
      "2025-05-28 21:59:07  RUNNING:  13%|█▎        | 20/150 [elapsed: 00:29 remaining: 02:18]\n",
      "2025-05-28 21:59:07  \n",
      "2025-05-28 21:59:07  RUNNING:  19%|█▊        | 28/150 [elapsed: 00:29 remaining: 02:08]Sleeping for 8s. Reason: RUNNING\n",
      "2025-05-28 21:59:16  \n",
      "2025-05-28 21:59:16  RUNNING:  19%|█▊        | 28/150 [elapsed: 00:38 remaining: 02:08]\n",
      "2025-05-28 21:59:16  \n",
      "2025-05-28 21:59:16  RUNNING:  24%|██▍       | 36/150 [elapsed: 00:38 remaining: 01:59]Sleeping for 6s. Reason: RUNNING\n",
      "2025-05-28 21:59:22  \n",
      "2025-05-28 21:59:22  RUNNING:  24%|██▍       | 36/150 [elapsed: 00:44 remaining: 01:59]\n",
      "2025-05-28 21:59:22  \n",
      "2025-05-28 21:59:22  RUNNING:  28%|██▊       | 42/150 [elapsed: 00:44 remaining: 01:53]Sleeping for 10s. Reason: RUNNING\n",
      "2025-05-28 21:59:32  \n",
      "2025-05-28 21:59:32  RUNNING:  28%|██▊       | 42/150 [elapsed: 00:54 remaining: 01:53]\n",
      "2025-05-28 21:59:32  \n",
      "2025-05-28 21:59:32  RUNNING:  35%|███▍      | 52/150 [elapsed: 00:54 remaining: 01:42]Sleeping for 8s. Reason: RUNNING\n",
      "2025-05-28 21:59:41  \n",
      "2025-05-28 21:59:41  RUNNING:  35%|███▍      | 52/150 [elapsed: 01:03 remaining: 01:42]\n",
      "2025-05-28 21:59:41  \n",
      "2025-05-28 21:59:41  RUNNING:  40%|████      | 60/150 [elapsed: 01:03 remaining: 01:33]Sleeping for 6s. Reason: RUNNING\n",
      "2025-05-28 21:59:47  \n",
      "2025-05-28 21:59:47  RUNNING:  44%|████▍     | 66/150 [elapsed: 01:09 remaining: 01:27]Sleeping for 5s. Reason: RUNNING\n",
      "2025-05-28 21:59:47  \n",
      "2025-05-28 21:59:47  RUNNING:  40%|████      | 60/150 [elapsed: 01:09 remaining: 01:33]\n",
      "2025-05-28 21:59:52  \n",
      "2025-05-28 21:59:52  RUNNING:  44%|████▍     | 66/150 [elapsed: 01:14 remaining: 01:27]\n",
      "2025-05-28 21:59:52  \n",
      "2025-05-28 21:59:52  RUNNING:  47%|████▋     | 71/150 [elapsed: 01:14 remaining: 01:23]Sleeping for 8s. Reason: RUNNING\n",
      "2025-05-28 22:00:01  \n",
      "2025-05-28 22:00:01  RUNNING:  53%|█████▎    | 79/150 [elapsed: 01:23 remaining: 01:14]Sleeping for 10s. Reason: RUNNING\n",
      "2025-05-28 22:00:01  \n",
      "2025-05-28 22:00:01  RUNNING:  47%|████▋     | 71/150 [elapsed: 01:23 remaining: 01:23]\n",
      "2025-05-28 22:00:11  \n",
      "2025-05-28 22:00:11  RUNNING:  53%|█████▎    | 79/150 [elapsed: 01:33 remaining: 01:14]\n",
      "2025-05-28 22:00:11  \n",
      "2025-05-28 22:00:11  RUNNING:  59%|█████▉    | 89/150 [elapsed: 01:33 remaining: 01:03]Sleeping for 9s. Reason: RUNNING\n",
      "2025-05-28 22:00:20  \n",
      "2025-05-28 22:00:20  RUNNING:  59%|█████▉    | 89/150 [elapsed: 01:42 remaining: 01:03]\n",
      "2025-05-28 22:00:20  \n",
      "2025-05-28 22:00:20  RUNNING:  65%|██████▌   | 98/150 [elapsed: 01:42 remaining: 00:54]Sleeping for 6s. Reason: RUNNING\n",
      "2025-05-28 22:00:27  \n",
      "2025-05-28 22:00:27  RUNNING:  65%|██████▌   | 98/150 [elapsed: 01:49 remaining: 00:54]\n",
      "2025-05-28 22:00:27  \n",
      "2025-05-28 22:00:27  RUNNING:  69%|██████▉   | 104/150 [elapsed: 01:49 remaining: 00:48]Sleeping for 7s. Reason: RUNNING\n",
      "2025-05-28 22:00:34  \n",
      "2025-05-28 22:00:34  RUNNING:  69%|██████▉   | 104/150 [elapsed: 01:56 remaining: 00:48]\n",
      "2025-05-28 22:00:34  \n",
      "2025-05-28 22:00:34  RUNNING:  74%|███████▍  | 111/150 [elapsed: 01:56 remaining: 00:40]Sleeping for 9s. Reason: RUNNING\n",
      "2025-05-28 22:00:43  \n",
      "2025-05-28 22:00:43  COMPLETE:  74%|███████▍  | 111/150 [elapsed: 02:05 remaining: 00:40]\n",
      "2025-05-28 22:00:45  \n",
      "2025-05-28 22:00:45  COMPLETE: 100%|██████████| 150/150 [elapsed: 02:05 remaining: 00:00]\n",
      "2025-05-28 22:00:45  COMPLETE: 100%|██████████| 150/150 [elapsed: 02:06 remaining: 00:00]\n",
      "2025-05-28 22:00:46  Generating MSA for /volume/boltz_inputs/fgfr2_infig.yaml with 1 protein entities.\n",
      "2025-05-28 22:00:46  \n",
      "2025-05-28 22:00:46   67%|██████▋   | 2/3 [02:11<01:16, 76.57s/it]\n",
      "2025-05-28 22:00:46  \n",
      "2025-05-28 22:00:46    0%|          | 0/150 [elapsed: 00:00 remaining: ?]\n",
      "2025-05-28 22:00:46  \n",
      "2025-05-28 22:00:46  SUBMIT:   0%|          | 0/150 [elapsed: 00:00 remaining: ?]\n",
      "2025-05-28 22:00:46  \n",
      "2025-05-28 22:00:46  PENDING:   0%|          | 0/150 [elapsed: 00:00 remaining: ?]Sleeping for 9s. Reason: PENDING\n",
      "2025-05-28 22:00:55  \n",
      "2025-05-28 22:00:55  RUNNING:   0%|          | 0/150 [elapsed: 00:09 remaining: ?]\n",
      "2025-05-28 22:00:55  \n",
      "2025-05-28 22:00:55  RUNNING:   6%|▌         | 9/150 [elapsed: 00:09 remaining: 02:31]Sleeping for 9s. Reason: RUNNING\n",
      "2025-05-28 22:01:05  \n",
      "2025-05-28 22:01:05  RUNNING:  12%|█▏        | 18/150 [elapsed: 00:19 remaining: 02:18]Sleeping for 6s. Reason: RUNNING\n",
      "2025-05-28 22:01:05  \n",
      "2025-05-28 22:01:05  RUNNING:   6%|▌         | 9/150 [elapsed: 00:19 remaining: 02:31]\n",
      "2025-05-28 22:01:11  \n",
      "2025-05-28 22:01:11  RUNNING:  12%|█▏        | 18/150 [elapsed: 00:25 remaining: 02:18]\n",
      "2025-05-28 22:01:11  \n",
      "2025-05-28 22:01:11  RUNNING:  16%|█▌        | 24/150 [elapsed: 00:25 remaining: 02:12]Sleeping for 7s. Reason: RUNNING\n",
      "2025-05-28 22:01:18  \n",
      "2025-05-28 22:01:18  RUNNING:  16%|█▌        | 24/150 [elapsed: 00:32 remaining: 02:12]\n",
      "2025-05-28 22:01:18  \n",
      "2025-05-28 22:01:18  RUNNING:  21%|██        | 31/150 [elapsed: 00:32 remaining: 02:05]Sleeping for 7s. Reason: RUNNING\n",
      "2025-05-28 22:01:26  \n",
      "2025-05-28 22:01:26  RUNNING:  21%|██        | 31/150 [elapsed: 00:40 remaining: 02:05]\n",
      "2025-05-28 22:01:26  \n",
      "2025-05-28 22:01:26  RUNNING:  25%|██▌       | 38/150 [elapsed: 00:40 remaining: 01:57]Sleeping for 10s. Reason: RUNNING\n",
      "2025-05-28 22:01:36  \n",
      "2025-05-28 22:01:36  RUNNING:  25%|██▌       | 38/150 [elapsed: 00:50 remaining: 01:57]\n",
      "2025-05-28 22:01:36  \n",
      "2025-05-28 22:01:36  RUNNING:  32%|███▏      | 48/150 [elapsed: 00:50 remaining: 01:46]Sleeping for 7s. Reason: RUNNING\n",
      "2025-05-28 22:01:43  \n",
      "2025-05-28 22:01:43  RUNNING:  32%|███▏      | 48/150 [elapsed: 00:57 remaining: 01:46]\n",
      "2025-05-28 22:01:43  \n",
      "2025-05-28 22:01:43  RUNNING:  37%|███▋      | 55/150 [elapsed: 00:57 remaining: 01:39]Sleeping for 7s. Reason: RUNNING\n",
      "2025-05-28 22:01:51  \n",
      "2025-05-28 22:01:51  RUNNING:  37%|███▋      | 55/150 [elapsed: 01:05 remaining: 01:39]\n",
      "2025-05-28 22:01:51  \n",
      "2025-05-28 22:01:51  RUNNING:  41%|████▏     | 62/150 [elapsed: 01:05 remaining: 01:32]Sleeping for 10s. Reason: RUNNING\n",
      "2025-05-28 22:02:01  \n",
      "2025-05-28 22:02:01  RUNNING:  41%|████▏     | 62/150 [elapsed: 01:15 remaining: 01:32]\n",
      "2025-05-28 22:02:01  \n",
      "2025-05-28 22:02:01  RUNNING:  48%|████▊     | 72/150 [elapsed: 01:15 remaining: 01:21]Sleeping for 5s. Reason: RUNNING\n",
      "2025-05-28 22:02:06  \n",
      "2025-05-28 22:02:06  RUNNING:  48%|████▊     | 72/150 [elapsed: 01:20 remaining: 01:21]\n",
      "2025-05-28 22:02:06  \n",
      "2025-05-28 22:02:06  RUNNING:  51%|█████▏    | 77/150 [elapsed: 01:20 remaining: 01:16]Sleeping for 9s. Reason: RUNNING\n",
      "2025-05-28 22:02:16  \n",
      "2025-05-28 22:02:16  RUNNING:  51%|█████▏    | 77/150 [elapsed: 01:30 remaining: 01:16]\n",
      "2025-05-28 22:02:16  \n",
      "2025-05-28 22:02:16  RUNNING:  57%|█████▋    | 86/150 [elapsed: 01:30 remaining: 01:06]Sleeping for 10s. Reason: RUNNING\n",
      "2025-05-28 22:02:26  \n",
      "2025-05-28 22:02:26  RUNNING:  57%|█████▋    | 86/150 [elapsed: 01:40 remaining: 01:06]\n",
      "2025-05-28 22:02:26  \n",
      "2025-05-28 22:02:26  RUNNING:  64%|██████▍   | 96/150 [elapsed: 01:40 remaining: 00:56]Sleeping for 6s. Reason: RUNNING\n",
      "2025-05-28 22:02:32  \n",
      "2025-05-28 22:02:32  RUNNING:  64%|██████▍   | 96/150 [elapsed: 01:46 remaining: 00:56]\n",
      "2025-05-28 22:02:32  \n",
      "2025-05-28 22:02:32  RUNNING:  68%|██████▊   | 102/150 [elapsed: 01:46 remaining: 00:50]Sleeping for 5s. Reason: RUNNING\n",
      "2025-05-28 22:02:38  \n",
      "2025-05-28 22:02:38  RUNNING:  68%|██████▊   | 102/150 [elapsed: 01:52 remaining: 00:50]\n",
      "2025-05-28 22:02:38  \n",
      "2025-05-28 22:02:38  RUNNING:  71%|███████▏  | 107/150 [elapsed: 01:52 remaining: 00:45]Sleeping for 8s. Reason: RUNNING\n",
      "2025-05-28 22:02:46  \n",
      "2025-05-28 22:02:46  RUNNING:  71%|███████▏  | 107/150 [elapsed: 02:00 remaining: 00:45]\n",
      "2025-05-28 22:02:46  \n",
      "2025-05-28 22:02:46  RUNNING:  77%|███████▋  | 115/150 [elapsed: 02:00 remaining: 00:36]Sleeping for 10s. Reason: RUNNING\n",
      "2025-05-28 22:02:56  \n",
      "2025-05-28 22:02:56  RUNNING:  77%|███████▋  | 115/150 [elapsed: 02:10 remaining: 00:36]\n",
      "2025-05-28 22:02:56  \n",
      "2025-05-28 22:02:56  RUNNING:  83%|████████▎ | 125/150 [elapsed: 02:10 remaining: 00:26]Sleeping for 10s. Reason: RUNNING\n",
      "2025-05-28 22:03:07  \n",
      "2025-05-28 22:03:07  RUNNING:  83%|████████▎ | 125/150 [elapsed: 02:21 remaining: 00:26]\n",
      "2025-05-28 22:03:07  \n",
      "2025-05-28 22:03:07  RUNNING:  90%|█████████ | 135/150 [elapsed: 02:21 remaining: 00:15]Sleeping for 8s. Reason: RUNNING\n",
      "2025-05-28 22:03:15  \n",
      "2025-05-28 22:03:15  RUNNING:  90%|█████████ | 135/150 [elapsed: 02:29 remaining: 00:15]\n",
      "2025-05-28 22:03:15  \n",
      "2025-05-28 22:03:15  RUNNING:  95%|█████████▌| 143/150 [elapsed: 02:29 remaining: 00:07]Sleeping for 8s. Reason: RUNNING\n",
      "2025-05-28 22:03:23  \n",
      "2025-05-28 22:03:23  COMPLETE:  95%|█████████▌| 143/150 [elapsed: 02:37 remaining: 00:07]\n",
      "2025-05-28 22:03:25  \n",
      "2025-05-28 22:03:25  COMPLETE: 100%|██████████| 150/150 [elapsed: 02:37 remaining: 00:00]\n",
      "2025-05-28 22:03:25  COMPLETE: 100%|██████████| 150/150 [elapsed: 02:39 remaining: 00:00]\n",
      "2025-05-28 22:03:25  \n",
      "2025-05-28 22:03:25  100%|██████████| 3/3 [04:51<00:00, 114.72s/it]\n",
      "2025-05-28 22:03:25  100%|██████████| 3/3 [04:51<00:00, 97.07s/it] \n",
      "2025-05-28 22:03:52  GPU available: True (cuda), used: True\n",
      "2025-05-28 22:03:52  HPU available: False, using: 0 HPUs\n",
      "2025-05-28 22:03:52  TPU available: False, using: 0 TPU cores\n",
      "2025-05-28 22:03:52  You are using a CUDA device ('NVIDIA L4') that has Tensor Cores. To properly utilize them, you should set `torch.set_float32_matmul_precision('medium' | 'high')` which will trade-off precision for performance. For more details, read https://pytorch.org/docs/stable/generated/torch.set_float32_matmul_precision.html#torch.set_float32_matmul_precision\n",
      "2025-05-28 22:03:52  LOCAL_RANK: 0 - CUDA_VISIBLE_DEVICES: [0]\n"
     ]
    }
   ],
   "source": [
    "boltz_project.realtime_logs() # or boltz_project.logs(realtime=True)"
   ]
  },
  {
   "cell_type": "markdown",
   "id": "5a2cad80",
   "metadata": {},
   "source": [
    "## Result visuzalization\n",
    "You can visualize the results of the Boltz-1 run using `PyMOL` or any other molecular visualization tool (e.g. `ParaView`). The output PDB files will be located in the `/volume/boltz_outputs` directory on your compute unit."
   ]
  }
 ],
 "metadata": {
  "kernelspec": {
   "display_name": "boltz1",
   "language": "python",
   "name": "python3"
  },
  "language_info": {
   "codemirror_mode": {
    "name": "ipython",
    "version": 3
   },
   "file_extension": ".py",
   "mimetype": "text/x-python",
   "name": "python",
   "nbconvert_exporter": "python",
   "pygments_lexer": "ipython3",
   "version": "3.9.22"
  }
 },
 "nbformat": 4,
 "nbformat_minor": 5
}
